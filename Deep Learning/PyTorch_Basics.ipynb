{
 "cells": [
  {
   "cell_type": "code",
   "execution_count": 3,
   "metadata": {},
   "outputs": [],
   "source": [
    "import torch"
   ]
  },
  {
   "cell_type": "code",
   "execution_count": 12,
   "metadata": {},
   "outputs": [
    {
     "name": "stdout",
     "output_type": "stream",
     "text": [
      "tensor(4) torch.int64 torch.Size([]) 0\n"
     ]
    }
   ],
   "source": [
    "scalar = torch.tensor(4)\n",
    "print(scalar, scalar.dtype, scalar.shape, scalar.ndim)"
   ]
  },
  {
   "cell_type": "code",
   "execution_count": 13,
   "metadata": {},
   "outputs": [
    {
     "name": "stdout",
     "output_type": "stream",
     "text": [
      "tensor([1., 2., 3., 4.]) torch.float32 torch.Size([4]) 1\n"
     ]
    }
   ],
   "source": [
    "vector = torch.tensor([1.0, 2, 3, 4])\n",
    "print(vector, vector.dtype, vector.shape, vector.ndim)"
   ]
  },
  {
   "cell_type": "code",
   "execution_count": 14,
   "metadata": {},
   "outputs": [
    {
     "name": "stdout",
     "output_type": "stream",
     "text": [
      "tensor([[5, 6],\n",
      "        [7, 8]]) torch.int64 torch.Size([2, 2]) 2\n"
     ]
    }
   ],
   "source": [
    "matrix = torch.tensor([[5, 6], [7, 8]])\n",
    "print(matrix, matrix.dtype, matrix.shape, matrix.ndim)"
   ]
  },
  {
   "cell_type": "code",
   "execution_count": 15,
   "metadata": {},
   "outputs": [
    {
     "name": "stdout",
     "output_type": "stream",
     "text": [
      "tensor([[[ 9, 10],\n",
      "         [11, 12]],\n",
      "\n",
      "        [[13, 14],\n",
      "         [15, 16]]]) torch.int64 torch.Size([2, 2, 2]) 3\n"
     ]
    }
   ],
   "source": [
    "tensor = torch.tensor([[[9, 10], [11, 12]], [[13, 14], [15, 16]]])\n",
    "print(tensor, tensor.dtype, tensor.shape, tensor.ndim)"
   ]
  }
 ],
 "metadata": {
  "kernelspec": {
   "display_name": "gmed",
   "language": "python",
   "name": "python3"
  },
  "language_info": {
   "codemirror_mode": {
    "name": "ipython",
    "version": 3
   },
   "file_extension": ".py",
   "mimetype": "text/x-python",
   "name": "python",
   "nbconvert_exporter": "python",
   "pygments_lexer": "ipython3",
   "version": "3.12.3"
  }
 },
 "nbformat": 4,
 "nbformat_minor": 2
}
