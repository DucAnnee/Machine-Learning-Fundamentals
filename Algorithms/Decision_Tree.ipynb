{
 "cells": [
  {
   "cell_type": "code",
   "execution_count": 1,
   "metadata": {},
   "outputs": [],
   "source": [
    "import numpy as np\n",
    "import pandas as pd\n",
    "import matplotlib.pyplot as plt"
   ]
  },
  {
   "cell_type": "markdown",
   "metadata": {},
   "source": [
    "# Approaching the problem\n",
    "Decision Tree is almost identical to when we want to decide a thing. For example, if we want to go swimming, we might consider if it's raining or not, or is the pool indoor or outdoor, etc.. However, computer obviously can't think about the question to ask in order to decide the outcome.\n",
    "\n",
    "That's why we need a criterion to decide what is the best question to ask. GINI impurity score will be implemented here. This is called choosing the best split.\n",
    "\n",
    "Like most tree building algorithm, we can build the tree recursively and for the base case, there are many complicated arguments involved, such as max depth of a tree, the min number of sample in a leaf, etc.. But those won't be considered and we will build the tree until no more leaf can be created.\n",
    "\n",
    "First, let's implement Gini"
   ]
  },
  {
   "cell_type": "markdown",
   "metadata": {},
   "source": []
  },
  {
   "cell_type": "code",
   "execution_count": null,
   "metadata": {},
   "outputs": [],
   "source": [
    "def gini(data):\n",
    "        "
   ]
  }
 ],
 "metadata": {
  "kernelspec": {
   "display_name": "deeplearning",
   "language": "python",
   "name": "python3"
  },
  "language_info": {
   "codemirror_mode": {
    "name": "ipython",
    "version": 3
   },
   "file_extension": ".py",
   "mimetype": "text/x-python",
   "name": "python",
   "nbconvert_exporter": "python",
   "pygments_lexer": "ipython3",
   "version": "3.10.8"
  }
 },
 "nbformat": 4,
 "nbformat_minor": 2
}
