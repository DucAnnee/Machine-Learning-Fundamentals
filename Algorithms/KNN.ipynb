{
 "cells": [
  {
   "cell_type": "code",
   "execution_count": 4,
   "metadata": {},
   "outputs": [],
   "source": [
    "import numpy as np\n",
    "import pandas as pd\n",
    "import matplotlib.pyplot as plt"
   ]
  },
  {
   "cell_type": "markdown",
   "metadata": {},
   "source": [
    "# Approach the problem\n",
    "\n",
    "This algorithm is quite simple as we want to find $k$ nearest datapoint (in term of Euclidean distance) to the unknown data we want to predict. After finding the nearest values, we use Plurality vote to decide the label.\n",
    "\n",
    "Now let's define the function to determine the distance from out point of interest to each of the rest of the data:\n"
   ]
  },
  {
   "cell_type": "code",
   "execution_count": 64,
   "metadata": {},
   "outputs": [],
   "source": [
    "def euclidean_distance(poi, datapoint):\n",
    "    return np.sqrt(np.sum((np.array(poi) - np.array(datapoint)) ** 2))"
   ]
  },
  {
   "cell_type": "code",
   "execution_count": 79,
   "metadata": {},
   "outputs": [
    {
     "ename": "KeyError",
     "evalue": "0",
     "output_type": "error",
     "traceback": [
      "\u001b[1;31m---------------------------------------------------------------------------\u001b[0m",
      "\u001b[1;31mKeyError\u001b[0m                                  Traceback (most recent call last)",
      "\u001b[1;32mc:\\Users\\DUC_AN\\Documents\\GitHub\\Machine-Learning-Fundamentals\\Algorithms\\KNN.ipynb Cell 4\u001b[0m line \u001b[0;36m9\n\u001b[0;32m      <a href='vscode-notebook-cell:/c%3A/Users/DUC_AN/Documents/GitHub/Machine-Learning-Fundamentals/Algorithms/KNN.ipynb#W3sZmlsZQ%3D%3D?line=6'>7</a>\u001b[0m result \u001b[39m=\u001b[39m np\u001b[39m.\u001b[39marray([])\n\u001b[0;32m      <a href='vscode-notebook-cell:/c%3A/Users/DUC_AN/Documents/GitHub/Machine-Learning-Fundamentals/Algorithms/KNN.ipynb#W3sZmlsZQ%3D%3D?line=7'>8</a>\u001b[0m \u001b[39mfor\u001b[39;00m i \u001b[39min\u001b[39;00m \u001b[39mrange\u001b[39m(\u001b[39mlen\u001b[39m(data)):\n\u001b[1;32m----> <a href='vscode-notebook-cell:/c%3A/Users/DUC_AN/Documents/GitHub/Machine-Learning-Fundamentals/Algorithms/KNN.ipynb#W3sZmlsZQ%3D%3D?line=8'>9</a>\u001b[0m     result \u001b[39m=\u001b[39m np\u001b[39m.\u001b[39mappend(result, euclidean_distance(poi, data[i]))\n\u001b[0;32m     <a href='vscode-notebook-cell:/c%3A/Users/DUC_AN/Documents/GitHub/Machine-Learning-Fundamentals/Algorithms/KNN.ipynb#W3sZmlsZQ%3D%3D?line=9'>10</a>\u001b[0m result\n",
      "\u001b[1;31mKeyError\u001b[0m: 0"
     ]
    }
   ],
   "source": [
    "data = {\n",
    "    \"true\": [[1, 2], [3, 4], [5, 6], [7, 8], [9, 10]],\n",
    "    \"false\": [[11, 12], [13, 14], [15, 16], [17, 18], [19, 20]],\n",
    "}\n",
    "poi = [[3, 4]]\n",
    "\n",
    "result = np.array([])\n",
    "for i in range(len(data)):\n",
    "    result = np.append(result, euclidean_distance(poi, data[i]))\n",
    "result"
   ]
  },
  {
   "cell_type": "markdown",
   "metadata": {},
   "source": [
    "# The algorithm\n"
   ]
  },
  {
   "cell_type": "code",
   "execution_count": null,
   "metadata": {},
   "outputs": [],
   "source": [
    "class KNN:\n",
    "    def __init__(self, k):\n",
    "        self.k = k\n",
    "\n",
    "    def fit(self, X, y):\n",
    "        self.X_train = X\n",
    "        self.y_train = y\n",
    "\n",
    "    def predict(self, X):\n",
    "        y_pred = [self._predict(x) for x in X]\n",
    "        return np.array(y_pred)\n",
    "\n",
    "    def _predict(self, x):\n",
    "        distances = sorted([euclidean_distance(x, x_train)\n",
    "                           for x_train in self.X_train])"
   ]
  }
 ],
 "metadata": {
  "kernelspec": {
   "display_name": "deeplearning",
   "language": "python",
   "name": "python3"
  },
  "language_info": {
   "codemirror_mode": {
    "name": "ipython",
    "version": 3
   },
   "file_extension": ".py",
   "mimetype": "text/x-python",
   "name": "python",
   "nbconvert_exporter": "python",
   "pygments_lexer": "ipython3",
   "version": "3.10.8"
  }
 },
 "nbformat": 4,
 "nbformat_minor": 2
}
