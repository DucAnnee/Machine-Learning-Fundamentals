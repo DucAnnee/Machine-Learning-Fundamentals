{
 "cells": [
  {
   "cell_type": "markdown",
   "metadata": {},
   "source": [
    "# Importing libs"
   ]
  },
  {
   "cell_type": "code",
   "execution_count": 120,
   "metadata": {},
   "outputs": [],
   "source": [
    "import numpy as np\n",
    "import pandas as pd\n",
    "import matplotlib.pyplot as plt"
   ]
  },
  {
   "cell_type": "markdown",
   "metadata": {},
   "source": [
    "# Exploring the data "
   ]
  },
  {
   "cell_type": "code",
   "execution_count": 121,
   "metadata": {},
   "outputs": [],
   "source": [
    "data = pd.read_csv(\n",
    "    \"insurance.csv\",\n",
    ")"
   ]
  },
  {
   "cell_type": "code",
   "execution_count": 122,
   "metadata": {},
   "outputs": [
    {
     "data": {
      "text/html": [
       "<div>\n",
       "<style scoped>\n",
       "    .dataframe tbody tr th:only-of-type {\n",
       "        vertical-align: middle;\n",
       "    }\n",
       "\n",
       "    .dataframe tbody tr th {\n",
       "        vertical-align: top;\n",
       "    }\n",
       "\n",
       "    .dataframe thead th {\n",
       "        text-align: right;\n",
       "    }\n",
       "</style>\n",
       "<table border=\"1\" class=\"dataframe\">\n",
       "  <thead>\n",
       "    <tr style=\"text-align: right;\">\n",
       "      <th></th>\n",
       "      <th>X</th>\n",
       "      <th>Y</th>\n",
       "    </tr>\n",
       "  </thead>\n",
       "  <tbody>\n",
       "    <tr>\n",
       "      <th>0</th>\n",
       "      <td>108</td>\n",
       "      <td>392.5</td>\n",
       "    </tr>\n",
       "    <tr>\n",
       "      <th>1</th>\n",
       "      <td>19</td>\n",
       "      <td>46.2</td>\n",
       "    </tr>\n",
       "    <tr>\n",
       "      <th>2</th>\n",
       "      <td>13</td>\n",
       "      <td>15.7</td>\n",
       "    </tr>\n",
       "    <tr>\n",
       "      <th>3</th>\n",
       "      <td>124</td>\n",
       "      <td>422.2</td>\n",
       "    </tr>\n",
       "    <tr>\n",
       "      <th>4</th>\n",
       "      <td>40</td>\n",
       "      <td>119.4</td>\n",
       "    </tr>\n",
       "  </tbody>\n",
       "</table>\n",
       "</div>"
      ],
      "text/plain": [
       "     X      Y\n",
       "0  108  392.5\n",
       "1   19   46.2\n",
       "2   13   15.7\n",
       "3  124  422.2\n",
       "4   40  119.4"
      ]
     },
     "execution_count": 122,
     "metadata": {},
     "output_type": "execute_result"
    }
   ],
   "source": [
    "data.head()"
   ]
  },
  {
   "cell_type": "code",
   "execution_count": 123,
   "metadata": {},
   "outputs": [
    {
     "data": {
      "text/plain": [
       "X    0\n",
       "Y    0\n",
       "dtype: int64"
      ]
     },
     "execution_count": 123,
     "metadata": {},
     "output_type": "execute_result"
    }
   ],
   "source": [
    "data.isna().sum()"
   ]
  },
  {
   "cell_type": "code",
   "execution_count": 124,
   "metadata": {},
   "outputs": [
    {
     "data": {
      "text/html": [
       "<div>\n",
       "<style scoped>\n",
       "    .dataframe tbody tr th:only-of-type {\n",
       "        vertical-align: middle;\n",
       "    }\n",
       "\n",
       "    .dataframe tbody tr th {\n",
       "        vertical-align: top;\n",
       "    }\n",
       "\n",
       "    .dataframe thead th {\n",
       "        text-align: right;\n",
       "    }\n",
       "</style>\n",
       "<table border=\"1\" class=\"dataframe\">\n",
       "  <thead>\n",
       "    <tr style=\"text-align: right;\">\n",
       "      <th></th>\n",
       "      <th>X</th>\n",
       "      <th>Y</th>\n",
       "    </tr>\n",
       "  </thead>\n",
       "  <tbody>\n",
       "    <tr>\n",
       "      <th>count</th>\n",
       "      <td>63.000000</td>\n",
       "      <td>63.000000</td>\n",
       "    </tr>\n",
       "    <tr>\n",
       "      <th>mean</th>\n",
       "      <td>22.904762</td>\n",
       "      <td>98.187302</td>\n",
       "    </tr>\n",
       "    <tr>\n",
       "      <th>std</th>\n",
       "      <td>23.351946</td>\n",
       "      <td>87.327553</td>\n",
       "    </tr>\n",
       "    <tr>\n",
       "      <th>min</th>\n",
       "      <td>0.000000</td>\n",
       "      <td>0.000000</td>\n",
       "    </tr>\n",
       "    <tr>\n",
       "      <th>25%</th>\n",
       "      <td>7.500000</td>\n",
       "      <td>38.850000</td>\n",
       "    </tr>\n",
       "    <tr>\n",
       "      <th>50%</th>\n",
       "      <td>14.000000</td>\n",
       "      <td>73.400000</td>\n",
       "    </tr>\n",
       "    <tr>\n",
       "      <th>75%</th>\n",
       "      <td>29.000000</td>\n",
       "      <td>140.000000</td>\n",
       "    </tr>\n",
       "    <tr>\n",
       "      <th>max</th>\n",
       "      <td>124.000000</td>\n",
       "      <td>422.200000</td>\n",
       "    </tr>\n",
       "  </tbody>\n",
       "</table>\n",
       "</div>"
      ],
      "text/plain": [
       "                X           Y\n",
       "count   63.000000   63.000000\n",
       "mean    22.904762   98.187302\n",
       "std     23.351946   87.327553\n",
       "min      0.000000    0.000000\n",
       "25%      7.500000   38.850000\n",
       "50%     14.000000   73.400000\n",
       "75%     29.000000  140.000000\n",
       "max    124.000000  422.200000"
      ]
     },
     "execution_count": 124,
     "metadata": {},
     "output_type": "execute_result"
    }
   ],
   "source": [
    "data.describe()"
   ]
  },
  {
   "cell_type": "code",
   "execution_count": 125,
   "metadata": {},
   "outputs": [
    {
     "data": {
      "image/png": "[encoded data removed]",
      "text/plain": [
       "<Figure size 1800x600 with 1 Axes>"
      ]
     },
     "metadata": {},
     "output_type": "display_data"
    }
   ],
   "source": [
    "length = len(data[\"X\"])\n",
    "\n",
    "x = data[\"X\"]\n",
    "y = data[\"Y\"]\n",
    "\n",
    "plt.figure(figsize=(18, 6))  # Adjust the figure size as per your requirement\n",
    "plt.plot(x, y, \"o\", color=\"blue\")\n",
    "plt.xlabel(\"X\")\n",
    "plt.ylabel(\"Y\")\n",
    "plt.title(\"Swedish Insurance Dataset\")\n",
    "# plt.savefig(\"./figures/insurance.png\", transparent=True)\n",
    "plt.show()"
   ]
  },
  {
   "cell_type": "markdown",
   "metadata": {},
   "source": [
    "# Approaching the problem\n",
    "### Main idea\n",
    "We want to draw a line that will fit the data. To be specific, to measure the error or how good the line fits our data, we want to take the distances of each datapoint to the line and sum it up. But we may encounter the problem that the points from the opposite side of the line may complement each other and make the measurement not good or not bad as it truly is.\n",
    "\n",
    "Therefore, we want to square up the distances (or residuals) to ensure the values we calculate are always positive. Taking the absolute values of the differences were also considered but it made the math tricky. \n",
    "\n",
    "In conclusion, the main objective is to find $a$ and $b$ of line $y = ax+b$ so that the sum of squared residuals is minimal.\n",
    "\n",
    "### Updating the line\n",
    "To update the line, we need to adjust $a$ and $b$ as said above by taking the partial derivative of a loss function with respect to $a$ and $b$, respectively. By that, the direction of the line can be determined and tuned to fit the data. That loss function is simply the function of calculating the sum of squared residual we discussed above.\n",
    "\n",
    "The sum of squared residual equation can be written as:\n",
    "\n",
    "$$E = \\sum_{i=0}^{n}(y_i-(ax_i+b))^2$$\n",
    "\n",
    "But here I want to try implement the mean squared error (MSE) as it is widely used in ML problems and also, it is not much different than the sum of squared error as we take the average of it. Therefore, the loss function we want to implement is\n",
    "\n",
    "$$E = \\frac{1}{n}\\sum_{i=0}^{n}(y_i-(ax_i+b))^2$$\n",
    "\n",
    "Now let's calculate the partial derivates of the loss function:\n",
    "\n",
    "$$\\frac{dE}{da} = \\frac{1}{n}\\sum_{i=0}^{n}2(y_i-(ax_i+b))(-x_i) = \\frac{-2}{n}\\sum_{i=0}^{n}(-x_i)(y_i-(ax_i+b))$$\n",
    "\n",
    "$$\\frac{dE}{dba} = \\frac{1}{n}\\sum_{i=0}^{n}2(y_i-(ax_i+b))(-1) = \\frac{-2}{n}\\sum_{i=0}^{n}(y_i-(ax_i+b))$$\n",
    "\n",
    "After that, we want to update the $a$ and $b$ by\n",
    "\n",
    "$$a = a-L\\frac{dE}{da}$$\n",
    "$$b = b-L\\frac{dE}{db}$$\n",
    "\n",
    "This is because the derivative we calculated is the direction that line is going but we don't want to go in that direction, in fact, we want to go to the opposite as we are heading for when the derivative is equal to 0 (minimal). Hence, the subtraction.\n",
    "\n",
    "Also, we don't want to change too much in one iteration, so we added L which is the learning rate. It basically limit the range when adjust the line. The larger the rate is, the faster we get to the optimal point. However, it may overshoot the point and maybe can never reach it. But if the rate is too small, the learning process will take a lot of time. So we want that to be in between."
   ]
  },
  {
   "cell_type": "code",
   "execution_count": 126,
   "metadata": {},
   "outputs": [],
   "source": [
    "def MSE(a, b, points):\n",
    "    total_error = 0\n",
    "    for i in range(len(points)):\n",
    "        x = points.iloc[i].x\n",
    "        y = points.iloc[i].y\n",
    "        total_error += (y - (a * x + b)) ** 2\n",
    "    return total_error / len(points)"
   ]
  },
  {
   "cell_type": "markdown",
   "metadata": {},
   "source": [
    "# Actual coding"
   ]
  },
  {
   "cell_type": "code",
   "execution_count": 145,
   "metadata": {},
   "outputs": [],
   "source": [
    "def gradient_descent(current_a, current_b, points, learning_rate):\n",
    "    a_gradient = 0\n",
    "    b_gradient = 0\n",
    "\n",
    "    n = len(points)\n",
    "\n",
    "    for i in range(n):\n",
    "        x = points.iloc[i].x\n",
    "        y = points.iloc[i].y\n",
    "\n",
    "        a_gradient += (-2 / n) * (x) * (y - (current_a * x + current_b))\n",
    "        b_gradient += (-2 / n) * (y - (current_a * x + current_b))\n",
    "\n",
    "    a = current_a - learning_rate * a_gradient\n",
    "    b = current_b - learning_rate * b_gradient\n",
    "\n",
    "    return a, b"
   ]
  },
  {
   "cell_type": "code",
   "execution_count": 162,
   "metadata": {},
   "outputs": [
    {
     "name": "stdout",
     "output_type": "stream",
     "text": [
      "3.82256847556231 1.0644244601763335\n"
     ]
    },
    {
     "data": {
      "image/png": "[encoded data removed]",
      "text/plain": [
       "<Figure size 640x480 with 1 Axes>"
      ]
     },
     "metadata": {},
     "output_type": "display_data"
    }
   ],
   "source": [
    "# Create a dataframe with columns x and y above\n",
    "df = pd.DataFrame({\"x\": x, \"y\": y})\n",
    "\n",
    "# Init the first line\n",
    "a = 0\n",
    "b = 0\n",
    "learning_rate = 0.0001\n",
    "epochs = 500\n",
    "\n",
    "for i in range(epochs):\n",
    "    # print(f\"Epoch: {i}\")\n",
    "    a, b = gradient_descent(a, b, df, learning_rate)\n",
    "\n",
    "print(a, b)\n",
    "\n",
    "plt.scatter(df[\"x\"], df[\"y\"])\n",
    "plt.plot(df[\"x\"], a * df[\"x\"] + b, color=\"red\")\n",
    "plt.show()"
   ]
  }
 ],
 "metadata": {
  "kernelspec": {
   "display_name": "deeplearning",
   "language": "python",
   "name": "python3"
  },
  "language_info": {
   "codemirror_mode": {
    "name": "ipython",
    "version": 3
   },
   "file_extension": ".py",
   "mimetype": "text/x-python",
   "name": "python",
   "nbconvert_exporter": "python",
   "pygments_lexer": "ipython3",
   "version": "3.10.8"
  }
 },
 "nbformat": 4,
 "nbformat_minor": 2
}
